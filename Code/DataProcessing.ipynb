{
  "nbformat": 4,
  "nbformat_minor": 0,
  "metadata": {
    "colab": {
      "provenance": []
    },
    "kernelspec": {
      "name": "python3",
      "display_name": "Python 3"
    },
    "language_info": {
      "name": "python"
    }
  },
  "cells": [
    {
      "cell_type": "markdown",
      "source": [
        "# Loading the data and pre process"
      ],
      "metadata": {
        "id": "JMtoNulv8Isv"
      }
    },
    {
      "cell_type": "code",
      "source": [
        "import pandas as pd\n",
        "\n",
        "# Load the dataset (Ensure the correct path)\n",
        "df = pd.read_csv(\"Raw_labeled_with_gemini.csv\")\n",
        "\n",
        "# Display basic info\n",
        "print(df.info())\n",
        "print(df.head())\n"
      ],
      "metadata": {
        "colab": {
          "base_uri": "https://localhost:8080/"
        },
        "id": "Qw3QqKI6_GdW",
        "outputId": "e96dab66-e6d9-4e3b-ed93-629492f2ea68"
      },
      "execution_count": 1,
      "outputs": [
        {
          "output_type": "stream",
          "name": "stdout",
          "text": [
            "<class 'pandas.core.frame.DataFrame'>\n",
            "RangeIndex: 779 entries, 0 to 778\n",
            "Data columns (total 8 columns):\n",
            " #   Column           Non-Null Count  Dtype \n",
            "---  ------           --------------  ----- \n",
            " 0   title            779 non-null    object\n",
            " 1   image            506 non-null    object\n",
            " 2   published        779 non-null    object\n",
            " 3   description      775 non-null    object\n",
            " 4   category         779 non-null    object\n",
            " 5   author           762 non-null    object\n",
            " 6   image_relation   779 non-null    object\n",
            " 7   fake_news_label  779 non-null    object\n",
            "dtypes: object(8)\n",
            "memory usage: 48.8+ KB\n",
            "None\n",
            "                                               title  \\\n",
            "0  Social Security head replaced after clash with...   \n",
            "1  Richard Linklater and Ethan Hawke Tease New Mo...   \n",
            "2  Northpoint Commercial Finance Partners with Ya...   \n",
            "3  Institutions Can Earn Bitcoin Yield With lstBT...   \n",
            "4  Your 10-Step Guide to Buying a Home, From Star...   \n",
            "\n",
            "                                               image  \\\n",
            "0  https://s.yimg.com/ny/api/res/1.2/NpP.f1PQfst9...   \n",
            "1  https://variety.com/wp-content/uploads/2025/02...   \n",
            "2                                                NaN   \n",
            "3  https://cdn.benzinga.com/files/images/story/20...   \n",
            "4  https://www.cnet.com/a/img/resize/769d3b87e85c...   \n",
            "\n",
            "                   published  \\\n",
            "0  2025-02-18 17:47:30 +0000   \n",
            "1  2025-02-18 17:19:25 +0000   \n",
            "2  2025-02-18 17:07:00 +0000   \n",
            "3  2025-02-18 17:02:27 +0000   \n",
            "4  2025-02-18 17:00:00 +0000   \n",
            "\n",
            "                                         description           category  \\\n",
            "0  The acting Social Security Administration comm...        ['general']   \n",
            "1  Before premiering 'Blue Moon' at Berlin Film F...  ['entertainment']   \n",
            "2  Northpoint Commercial Finance Partners with Ya...        ['finance']   \n",
            "3  Maple Finance, BitGo, Copper, and Hex Trust te...        ['finance']   \n",
            "4  Buying a home is a multistep process. Before a...     ['technology']   \n",
            "\n",
            "           author image_relation fake_news_label  \n",
            "0   Yahoo Finance            Yes            Real  \n",
            "1   Ellise Shafer            Yes            Real  \n",
            "2      PRNewswire            Yes            Real  \n",
            "3   Khyathi Dalal             No            Real  \n",
            "4  Katherine Watt            Yes            Real  \n"
          ]
        }
      ]
    },
    {
      "cell_type": "code",
      "source": [
        "\n",
        "# Standardize column names\n",
        "df.columns = df.columns.str.strip().str.lower()\n",
        "\n",
        "# Fill missing values\n",
        "df[\"image\"].fillna(\"Unknown\", inplace=True)\n",
        "df[\"author\"].fillna(\"Unknown\", inplace=True)\n",
        "df[\"description\"].fillna(\"No description available\", inplace=True)\n",
        "\n",
        "# Fix category format (Convert ['category'] → category)\n",
        "df[\"category\"] = df[\"category\"].str.replace(r\"[\\[\\]']\", \"\", regex=True)\n",
        "\n",
        "# Convert 'published' column to datetime format\n",
        "df[\"published\"] = pd.to_datetime(df[\"published\"], errors=\"coerce\")\n",
        "\n",
        "# Remove duplicates\n",
        "df.drop_duplicates(inplace=True)\n",
        "\n",
        "# Save the cleaned dataset\n",
        "df.to_csv(\"cleaned_news_data.csv\", index=False)\n",
        "\n",
        "print(\"✅ Preprocessing complete! Cleaned data saved as 'cleaned_news_data.csv'\")\n"
      ],
      "metadata": {
        "colab": {
          "base_uri": "https://localhost:8080/"
        },
        "id": "A1f-THHs_O7j",
        "outputId": "549b8761-5b71-473d-c8a4-036c56e20d74"
      },
      "execution_count": 2,
      "outputs": [
        {
          "output_type": "stream",
          "name": "stdout",
          "text": [
            "✅ Preprocessing complete! Cleaned data saved as 'cleaned_news_data.csv'\n"
          ]
        },
        {
          "output_type": "stream",
          "name": "stderr",
          "text": [
            "<ipython-input-2-6be059917ab1>:5: FutureWarning: A value is trying to be set on a copy of a DataFrame or Series through chained assignment using an inplace method.\n",
            "The behavior will change in pandas 3.0. This inplace method will never work because the intermediate object on which we are setting values always behaves as a copy.\n",
            "\n",
            "For example, when doing 'df[col].method(value, inplace=True)', try using 'df.method({col: value}, inplace=True)' or df[col] = df[col].method(value) instead, to perform the operation inplace on the original object.\n",
            "\n",
            "\n",
            "  df[\"image\"].fillna(\"Unknown\", inplace=True)\n",
            "<ipython-input-2-6be059917ab1>:6: FutureWarning: A value is trying to be set on a copy of a DataFrame or Series through chained assignment using an inplace method.\n",
            "The behavior will change in pandas 3.0. This inplace method will never work because the intermediate object on which we are setting values always behaves as a copy.\n",
            "\n",
            "For example, when doing 'df[col].method(value, inplace=True)', try using 'df.method({col: value}, inplace=True)' or df[col] = df[col].method(value) instead, to perform the operation inplace on the original object.\n",
            "\n",
            "\n",
            "  df[\"author\"].fillna(\"Unknown\", inplace=True)\n",
            "<ipython-input-2-6be059917ab1>:7: FutureWarning: A value is trying to be set on a copy of a DataFrame or Series through chained assignment using an inplace method.\n",
            "The behavior will change in pandas 3.0. This inplace method will never work because the intermediate object on which we are setting values always behaves as a copy.\n",
            "\n",
            "For example, when doing 'df[col].method(value, inplace=True)', try using 'df.method({col: value}, inplace=True)' or df[col] = df[col].method(value) instead, to perform the operation inplace on the original object.\n",
            "\n",
            "\n",
            "  df[\"description\"].fillna(\"No description available\", inplace=True)\n"
          ]
        }
      ]
    },
    {
      "cell_type": "code",
      "source": [],
      "metadata": {
        "id": "VzwDLdenAQRw"
      },
      "execution_count": null,
      "outputs": []
    }
  ]
}